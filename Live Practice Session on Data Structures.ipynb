{
 "cells": [
  {
   "cell_type": "code",
   "execution_count": 1,
   "id": "411a753a",
   "metadata": {},
   "outputs": [],
   "source": [
    "msg=\"crocodile\""
   ]
  },
  {
   "cell_type": "code",
   "execution_count": 2,
   "id": "f2a6342f",
   "metadata": {},
   "outputs": [
    {
     "data": {
      "text/plain": [
       "'c'"
      ]
     },
     "execution_count": 2,
     "metadata": {},
     "output_type": "execute_result"
    }
   ],
   "source": [
    "msg[0]"
   ]
  },
  {
   "cell_type": "code",
   "execution_count": 3,
   "id": "adf52474",
   "metadata": {},
   "outputs": [
    {
     "data": {
      "text/plain": [
       "'i'"
      ]
     },
     "execution_count": 3,
     "metadata": {},
     "output_type": "execute_result"
    }
   ],
   "source": [
    "msg[-3]"
   ]
  },
  {
   "cell_type": "markdown",
   "id": "af289cd6",
   "metadata": {},
   "source": [
    "Slicing in Strings"
   ]
  },
  {
   "cell_type": "code",
   "execution_count": 6,
   "id": "1e2ccd10",
   "metadata": {},
   "outputs": [
    {
     "data": {
      "text/plain": [
       "'croc'"
      ]
     },
     "execution_count": 6,
     "metadata": {},
     "output_type": "execute_result"
    }
   ],
   "source": [
    "msg[ : -5]"
   ]
  },
  {
   "cell_type": "code",
   "execution_count": 9,
   "id": "0f6c5a13",
   "metadata": {},
   "outputs": [
    {
     "data": {
      "text/plain": [
       "'rocod'"
      ]
     },
     "execution_count": 9,
     "metadata": {},
     "output_type": "execute_result"
    }
   ],
   "source": [
    "msg[ 1 : 6]"
   ]
  },
  {
   "cell_type": "code",
   "execution_count": 10,
   "id": "483e8f30",
   "metadata": {},
   "outputs": [
    {
     "data": {
      "text/plain": [
       "'roco'"
      ]
     },
     "execution_count": 10,
     "metadata": {},
     "output_type": "execute_result"
    }
   ],
   "source": [
    "msg[-8 : -4]"
   ]
  },
  {
   "cell_type": "code",
   "execution_count": 16,
   "id": "a3022cbc",
   "metadata": {},
   "outputs": [
    {
     "data": {
      "text/plain": [
       "'cooie'"
      ]
     },
     "execution_count": 16,
     "metadata": {},
     "output_type": "execute_result"
    }
   ],
   "source": [
    "msg[ 0 :: 2]"
   ]
  },
  {
   "cell_type": "code",
   "execution_count": 17,
   "id": "b232b10e",
   "metadata": {},
   "outputs": [],
   "source": [
    "sample=\"ABCDEFGH\""
   ]
  },
  {
   "cell_type": "code",
   "execution_count": 18,
   "id": "e4246608",
   "metadata": {},
   "outputs": [
    {
     "data": {
      "text/plain": [
       "'BDF'"
      ]
     },
     "execution_count": 18,
     "metadata": {},
     "output_type": "execute_result"
    }
   ],
   "source": [
    "sample[1:7:2]"
   ]
  },
  {
   "cell_type": "code",
   "execution_count": 19,
   "id": "28dfea80",
   "metadata": {},
   "outputs": [
    {
     "data": {
      "text/plain": [
       "'rol'"
      ]
     },
     "execution_count": 19,
     "metadata": {},
     "output_type": "execute_result"
    }
   ],
   "source": [
    "msg[ 1 : 8 : 3]"
   ]
  },
  {
   "cell_type": "code",
   "execution_count": 20,
   "id": "d14f796c",
   "metadata": {},
   "outputs": [
    {
     "data": {
      "text/plain": [
       "'CROCODILE'"
      ]
     },
     "execution_count": 20,
     "metadata": {},
     "output_type": "execute_result"
    }
   ],
   "source": [
    "msg.upper()"
   ]
  },
  {
   "cell_type": "code",
   "execution_count": 21,
   "id": "9583f3b9",
   "metadata": {},
   "outputs": [
    {
     "data": {
      "text/plain": [
       "'crocodile'"
      ]
     },
     "execution_count": 21,
     "metadata": {},
     "output_type": "execute_result"
    }
   ],
   "source": [
    "msg.lower()"
   ]
  },
  {
   "cell_type": "code",
   "execution_count": 22,
   "id": "58fd0a0f",
   "metadata": {},
   "outputs": [
    {
     "data": {
      "text/plain": [
       "'Crocodile'"
      ]
     },
     "execution_count": 22,
     "metadata": {},
     "output_type": "execute_result"
    }
   ],
   "source": [
    "msg.capitalize()"
   ]
  },
  {
   "cell_type": "code",
   "execution_count": 23,
   "id": "435252e7",
   "metadata": {},
   "outputs": [
    {
     "data": {
      "text/plain": [
       "0"
      ]
     },
     "execution_count": 23,
     "metadata": {},
     "output_type": "execute_result"
    }
   ],
   "source": [
    "msg.index('c')"
   ]
  },
  {
   "cell_type": "code",
   "execution_count": 24,
   "id": "5e09c736",
   "metadata": {},
   "outputs": [],
   "source": [
    "discount=\"140\""
   ]
  },
  {
   "cell_type": "code",
   "execution_count": 25,
   "id": "dd866756",
   "metadata": {},
   "outputs": [
    {
     "data": {
      "text/plain": [
       "True"
      ]
     },
     "execution_count": 25,
     "metadata": {},
     "output_type": "execute_result"
    }
   ],
   "source": [
    "discount.isdigit()"
   ]
  },
  {
   "cell_type": "code",
   "execution_count": 26,
   "id": "96fcc507",
   "metadata": {},
   "outputs": [],
   "source": [
    "price=\"14 0\""
   ]
  },
  {
   "cell_type": "code",
   "execution_count": 27,
   "id": "fd3f6b5f",
   "metadata": {},
   "outputs": [
    {
     "data": {
      "text/plain": [
       "False"
      ]
     },
     "execution_count": 27,
     "metadata": {},
     "output_type": "execute_result"
    }
   ],
   "source": [
    "price.isdigit()"
   ]
  },
  {
   "cell_type": "code",
   "execution_count": 28,
   "id": "1f6eedd6",
   "metadata": {},
   "outputs": [
    {
     "data": {
      "text/plain": [
       "2"
      ]
     },
     "execution_count": 28,
     "metadata": {},
     "output_type": "execute_result"
    }
   ],
   "source": [
    "msg.index('o')    # the string value is scanned from left to right and index of first occurence is returned."
   ]
  },
  {
   "cell_type": "code",
   "execution_count": 29,
   "id": "e48bf01c",
   "metadata": {},
   "outputs": [
    {
     "data": {
      "text/plain": [
       "4"
      ]
     },
     "execution_count": 29,
     "metadata": {},
     "output_type": "execute_result"
    }
   ],
   "source": [
    "msg.rindex('o')    # the string value is scanned from right to left and index of first occurence is returned."
   ]
  },
  {
   "cell_type": "code",
   "execution_count": 32,
   "id": "ec3493f0",
   "metadata": {},
   "outputs": [
    {
     "data": {
      "text/plain": [
       "True"
      ]
     },
     "execution_count": 32,
     "metadata": {},
     "output_type": "execute_result"
    }
   ],
   "source": [
    "msg.startswith('c')"
   ]
  },
  {
   "cell_type": "code",
   "execution_count": 34,
   "id": "c1cfac21",
   "metadata": {},
   "outputs": [
    {
     "data": {
      "text/plain": [
       "False"
      ]
     },
     "execution_count": 34,
     "metadata": {},
     "output_type": "execute_result"
    }
   ],
   "source": [
    "msg.startswith('p')"
   ]
  },
  {
   "cell_type": "markdown",
   "id": "0f0a4f97",
   "metadata": {},
   "source": [
    "Converting String into List ( Important)"
   ]
  },
  {
   "cell_type": "code",
   "execution_count": 35,
   "id": "4119d4f9",
   "metadata": {},
   "outputs": [],
   "source": [
    "wish = \"One Day I'll make Onions Cry\""
   ]
  },
  {
   "cell_type": "code",
   "execution_count": 36,
   "id": "8623a1ac",
   "metadata": {},
   "outputs": [
    {
     "data": {
      "text/plain": [
       "['One', 'Day', \"I'll\", 'make', 'Onions', 'Cry']"
      ]
     },
     "execution_count": 36,
     "metadata": {},
     "output_type": "execute_result"
    }
   ],
   "source": [
    "wish.split()"
   ]
  },
  {
   "cell_type": "code",
   "execution_count": 37,
   "id": "04025302",
   "metadata": {},
   "outputs": [],
   "source": [
    "heroes= \"ironman,thanos,spiderman,aquaman,batman\""
   ]
  },
  {
   "cell_type": "code",
   "execution_count": 38,
   "id": "ca50422d",
   "metadata": {},
   "outputs": [],
   "source": [
    "heroes_split = heroes.split(',')"
   ]
  },
  {
   "cell_type": "code",
   "execution_count": 39,
   "id": "e4023608",
   "metadata": {},
   "outputs": [
    {
     "data": {
      "text/plain": [
       "['ironman', 'thanos', 'spiderman', 'aquaman', 'batman']"
      ]
     },
     "execution_count": 39,
     "metadata": {},
     "output_type": "execute_result"
    }
   ],
   "source": [
    "heroes_split"
   ]
  },
  {
   "cell_type": "code",
   "execution_count": 42,
   "id": "27b5726e",
   "metadata": {},
   "outputs": [],
   "source": [
    "# lets remove thanos as he is not a hero\n",
    "del heroes_split[1]"
   ]
  },
  {
   "cell_type": "code",
   "execution_count": 43,
   "id": "b8c5e660",
   "metadata": {},
   "outputs": [
    {
     "data": {
      "text/plain": [
       "['ironman', 'aquaman', 'batman']"
      ]
     },
     "execution_count": 43,
     "metadata": {},
     "output_type": "execute_result"
    }
   ],
   "source": [
    "heroes_split"
   ]
  },
  {
   "cell_type": "code",
   "execution_count": 44,
   "id": "be022bca",
   "metadata": {},
   "outputs": [],
   "source": [
    "# let us ask avengers to assemble\n",
    "heroes_split.sort()"
   ]
  },
  {
   "cell_type": "code",
   "execution_count": 45,
   "id": "f1aee765",
   "metadata": {},
   "outputs": [
    {
     "data": {
      "text/plain": [
       "['aquaman', 'batman', 'ironman']"
      ]
     },
     "execution_count": 45,
     "metadata": {},
     "output_type": "execute_result"
    }
   ],
   "source": [
    "heroes_split"
   ]
  },
  {
   "cell_type": "code",
   "execution_count": null,
   "id": "cf0ccc5f",
   "metadata": {},
   "outputs": [],
   "source": []
  },
  {
   "cell_type": "code",
   "execution_count": 47,
   "id": "d645a16e",
   "metadata": {},
   "outputs": [],
   "source": [
    "fruitList= ['berrys','apricot','grapes','cherry']"
   ]
  },
  {
   "cell_type": "code",
   "execution_count": 48,
   "id": "53661ba1",
   "metadata": {},
   "outputs": [
    {
     "data": {
      "text/plain": [
       "['apricot', 'berrys', 'cherry', 'grapes']"
      ]
     },
     "execution_count": 48,
     "metadata": {},
     "output_type": "execute_result"
    }
   ],
   "source": [
    "sorted(fruitList)"
   ]
  },
  {
   "cell_type": "code",
   "execution_count": 49,
   "id": "03c795ab",
   "metadata": {},
   "outputs": [
    {
     "data": {
      "text/plain": [
       "['berrys', 'apricot', 'grapes', 'cherry']"
      ]
     },
     "execution_count": 49,
     "metadata": {},
     "output_type": "execute_result"
    }
   ],
   "source": [
    "fruitList"
   ]
  },
  {
   "cell_type": "code",
   "execution_count": 50,
   "id": "b0af1926",
   "metadata": {},
   "outputs": [],
   "source": [
    "# sorted() function returns a new Sorted List , it doesnt make changes in original List"
   ]
  },
  {
   "cell_type": "code",
   "execution_count": 51,
   "id": "19820433",
   "metadata": {},
   "outputs": [],
   "source": [
    "# .sort() function sorts the original source list and doesn't return new list\n",
    "\n",
    "fruitList.sort()"
   ]
  },
  {
   "cell_type": "code",
   "execution_count": 52,
   "id": "8c9be588",
   "metadata": {},
   "outputs": [
    {
     "data": {
      "text/plain": [
       "['apricot', 'berrys', 'cherry', 'grapes']"
      ]
     },
     "execution_count": 52,
     "metadata": {},
     "output_type": "execute_result"
    }
   ],
   "source": [
    "fruitList"
   ]
  },
  {
   "cell_type": "markdown",
   "id": "ae68bf60",
   "metadata": {},
   "source": [
    "Converting List into String"
   ]
  },
  {
   "cell_type": "code",
   "execution_count": 54,
   "id": "30554444",
   "metadata": {},
   "outputs": [
    {
     "data": {
      "text/plain": [
       "'aquaman batman ironman'"
      ]
     },
     "execution_count": 54,
     "metadata": {},
     "output_type": "execute_result"
    }
   ],
   "source": [
    "' '.join( heroes_split )"
   ]
  },
  {
   "cell_type": "code",
   "execution_count": 56,
   "id": "a7b04b2e",
   "metadata": {},
   "outputs": [
    {
     "data": {
      "text/plain": [
       "'aquaman🐝batman🐝ironman'"
      ]
     },
     "execution_count": 56,
     "metadata": {},
     "output_type": "execute_result"
    }
   ],
   "source": [
    "'🐝'.join( heroes_split )"
   ]
  },
  {
   "cell_type": "markdown",
   "id": "57aad61d",
   "metadata": {},
   "source": [
    "Task"
   ]
  },
  {
   "cell_type": "code",
   "execution_count": 57,
   "id": "41882f6e",
   "metadata": {},
   "outputs": [],
   "source": [
    "marks= \"English 50 Science 80 Maths 70\"\n",
    "\n",
    "# objective: we are asked to find the Sum of All Scores & Avg of All Scores."
   ]
  },
  {
   "cell_type": "code",
   "execution_count": 58,
   "id": "152dec25",
   "metadata": {},
   "outputs": [
    {
     "data": {
      "text/plain": [
       "'English 50 Science 80 Maths 70'"
      ]
     },
     "execution_count": 58,
     "metadata": {},
     "output_type": "execute_result"
    }
   ],
   "source": [
    "marks"
   ]
  },
  {
   "cell_type": "code",
   "execution_count": 59,
   "id": "f75627f7",
   "metadata": {},
   "outputs": [],
   "source": [
    "mList = marks.split()"
   ]
  },
  {
   "cell_type": "code",
   "execution_count": 60,
   "id": "bff4cbe9",
   "metadata": {},
   "outputs": [
    {
     "data": {
      "text/plain": [
       "['English', '50', 'Science', '80', 'Maths', '70']"
      ]
     },
     "execution_count": 60,
     "metadata": {},
     "output_type": "execute_result"
    }
   ],
   "source": [
    "mList"
   ]
  },
  {
   "cell_type": "code",
   "execution_count": 61,
   "id": "a2284429",
   "metadata": {},
   "outputs": [
    {
     "name": "stdout",
     "output_type": "stream",
     "text": [
      "English\n",
      "50\n",
      "Science\n",
      "80\n",
      "Maths\n",
      "70\n"
     ]
    }
   ],
   "source": [
    "for i in mList:\n",
    "    print(i)"
   ]
  },
  {
   "cell_type": "code",
   "execution_count": 62,
   "id": "20ee30dc",
   "metadata": {},
   "outputs": [
    {
     "name": "stdout",
     "output_type": "stream",
     "text": [
      "English   False\n",
      "50   True\n",
      "Science   False\n",
      "80   True\n",
      "Maths   False\n",
      "70   True\n"
     ]
    }
   ],
   "source": [
    "for i in mList:\n",
    "    print(i,' ',i.isdigit())"
   ]
  },
  {
   "cell_type": "code",
   "execution_count": 65,
   "id": "6d52b2ea",
   "metadata": {},
   "outputs": [
    {
     "name": "stdout",
     "output_type": "stream",
     "text": [
      "50\n",
      "80\n",
      "70\n"
     ]
    }
   ],
   "source": [
    "for i in mList:\n",
    "    if i.isdigit():\n",
    "     print(i)"
   ]
  },
  {
   "cell_type": "code",
   "execution_count": 68,
   "id": "f454e47b",
   "metadata": {},
   "outputs": [
    {
     "name": "stdout",
     "output_type": "stream",
     "text": [
      "[50, 80, 70]\n"
     ]
    }
   ],
   "source": [
    "scores= []\n",
    "\n",
    "for i in mList:\n",
    "    if i.isdigit():\n",
    "        scores.append(int(i))\n",
    "\n",
    "print(scores)\n",
    "\n"
   ]
  },
  {
   "cell_type": "code",
   "execution_count": 69,
   "id": "0d024c4b",
   "metadata": {},
   "outputs": [
    {
     "name": "stdout",
     "output_type": "stream",
     "text": [
      "200\n"
     ]
    }
   ],
   "source": [
    "print(sum(scores))"
   ]
  },
  {
   "cell_type": "code",
   "execution_count": 73,
   "id": "b98b4296",
   "metadata": {},
   "outputs": [
    {
     "name": "stdout",
     "output_type": "stream",
     "text": [
      "Average Marks  66.67\n"
     ]
    }
   ],
   "source": [
    "print('Average Marks ' , round(sum(scores) / len( scores ), 2))"
   ]
  },
  {
   "cell_type": "code",
   "execution_count": 1,
   "id": "abdc8772",
   "metadata": {},
   "outputs": [],
   "source": [
    "# we are provided with the voting Data of recent Elections\n",
    "\n",
    "partyVotes = \"A,B,B,A,A,A,B,A,A,C,C,B,A,B,C,B\"\n",
    "\n",
    "# Objective: you are asked to find PartyNames and Count of Votes of each Party."
   ]
  },
  {
   "cell_type": "code",
   "execution_count": 2,
   "id": "737f9f7d",
   "metadata": {},
   "outputs": [
    {
     "name": "stdout",
     "output_type": "stream",
     "text": [
      "['A', 'B', 'B', 'A', 'A', 'A', 'B', 'A', 'A', 'C', 'C', 'B', 'A', 'B', 'C', 'B']\n"
     ]
    }
   ],
   "source": [
    "# step 1 : we will Separate Each Vote\n",
    "\n",
    "voteList = partyVotes.split(',')\n",
    "\n",
    "print( voteList )"
   ]
  },
  {
   "cell_type": "code",
   "execution_count": 3,
   "id": "761b098d",
   "metadata": {},
   "outputs": [
    {
     "data": {
      "text/plain": [
       "{'A', 'B', 'C'}"
      ]
     },
     "execution_count": 3,
     "metadata": {},
     "output_type": "execute_result"
    }
   ],
   "source": [
    "# step 2 : we will Convert voteList into. SET to get the unique PartyNames\n",
    "\n",
    "parties = set( voteList )\n",
    "\n",
    "parties"
   ]
  },
  {
   "cell_type": "code",
   "execution_count": 4,
   "id": "25aa52fe",
   "metadata": {},
   "outputs": [
    {
     "name": "stdout",
     "output_type": "stream",
     "text": [
      "A\n",
      "B\n",
      "C\n"
     ]
    }
   ],
   "source": [
    "# step 3 : we will write a for loop to fetch each element of set.\n",
    "\n",
    "for p in parties :\n",
    "\n",
    "  print( p )"
   ]
  },
  {
   "cell_type": "code",
   "execution_count": 8,
   "id": "289f8891",
   "metadata": {},
   "outputs": [
    {
     "name": "stdout",
     "output_type": "stream",
     "text": [
      "A 7\n",
      "B 6\n",
      "C 3\n"
     ]
    }
   ],
   "source": [
    "# step 3 : we will write a for loop to fetch each element of set.\n",
    "\n",
    "for p in parties :\n",
    "\n",
    "  print( p ,  voteList.count( p ))"
   ]
  },
  {
   "cell_type": "markdown",
   "id": "634d08b8",
   "metadata": {},
   "source": [
    "\n",
    "Working with Dictionary"
   ]
  },
  {
   "cell_type": "code",
   "execution_count": 9,
   "id": "690e6951",
   "metadata": {},
   "outputs": [],
   "source": [
    "# lets do the warm up\n",
    "\n",
    "lang = {}"
   ]
  },
  {
   "cell_type": "code",
   "execution_count": 10,
   "id": "d1bb9e1e",
   "metadata": {},
   "outputs": [],
   "source": [
    "# dict[ key ] = value\n",
    "\n",
    "lang['en'] = 'english'\n",
    "lang['hi'] = 'hindi'\n",
    "lang['tl'] = 'telugu'"
   ]
  },
  {
   "cell_type": "code",
   "execution_count": 11,
   "id": "9d837261",
   "metadata": {},
   "outputs": [
    {
     "data": {
      "text/plain": [
       "{'en': 'english', 'hi': 'hindi', 'tl': 'telugu'}"
      ]
     },
     "execution_count": 11,
     "metadata": {},
     "output_type": "execute_result"
    }
   ],
   "source": [
    "lang"
   ]
  },
  {
   "cell_type": "code",
   "execution_count": 12,
   "id": "e24b73d1",
   "metadata": {},
   "outputs": [],
   "source": [
    "# del dict[key]\n",
    "\n",
    "del lang['en']"
   ]
  },
  {
   "cell_type": "code",
   "execution_count": 13,
   "id": "fba4c9c4",
   "metadata": {},
   "outputs": [
    {
     "data": {
      "text/plain": [
       "{'hi': 'hindi', 'tl': 'telugu'}"
      ]
     },
     "execution_count": 13,
     "metadata": {},
     "output_type": "execute_result"
    }
   ],
   "source": [
    "lang"
   ]
  },
  {
   "cell_type": "code",
   "execution_count": 15,
   "id": "666877e6",
   "metadata": {},
   "outputs": [
    {
     "data": {
      "text/plain": [
       "'telugu'"
      ]
     },
     "execution_count": 15,
     "metadata": {},
     "output_type": "execute_result"
    }
   ],
   "source": [
    "# fetching value\n",
    "lang['tl']"
   ]
  },
  {
   "cell_type": "code",
   "execution_count": 18,
   "id": "7bdd524a",
   "metadata": {},
   "outputs": [
    {
     "data": {
      "text/plain": [
       "'telugu'"
      ]
     },
     "execution_count": 18,
     "metadata": {},
     "output_type": "execute_result"
    }
   ],
   "source": [
    "lang.get('tl')"
   ]
  },
  {
   "cell_type": "code",
   "execution_count": 19,
   "id": "2d54ab4f",
   "metadata": {},
   "outputs": [],
   "source": [
    "words = [ \"joy\" , \"affection\" , \"care\" , \"attraction\" , \"happiness\" ]"
   ]
  },
  {
   "cell_type": "code",
   "execution_count": 20,
   "id": "7b244d7f",
   "metadata": {},
   "outputs": [
    {
     "data": {
      "text/plain": [
       "{'joy': 3}"
      ]
     },
     "execution_count": 20,
     "metadata": {},
     "output_type": "execute_result"
    }
   ],
   "source": [
    "{ 'joy' : 3 }"
   ]
  },
  {
   "cell_type": "code",
   "execution_count": 21,
   "id": "0788fd8b",
   "metadata": {},
   "outputs": [],
   "source": [
    "wordDict = {}"
   ]
  },
  {
   "cell_type": "code",
   "execution_count": 22,
   "id": "8cd04e3f",
   "metadata": {},
   "outputs": [
    {
     "name": "stdout",
     "output_type": "stream",
     "text": [
      "{'joy': 3, 'affection': 9, 'care': 4, 'attraction': 10, 'happiness': 9}\n"
     ]
    }
   ],
   "source": [
    "for w in words:\n",
    "    wordDict[w] = len(w)\n",
    "    \n",
    "print(wordDict)"
   ]
  },
  {
   "cell_type": "markdown",
   "id": "d1003141",
   "metadata": {},
   "source": [
    "# len is a function ,all function always use ()\n",
    "# [] is used with , List , Indexes and Dictionaries"
   ]
  },
  {
   "cell_type": "code",
   "execution_count": 23,
   "id": "0a0f9947",
   "metadata": {},
   "outputs": [],
   "source": [
    "# Activity :\n",
    "\n",
    "# you are provided with Basketball Players weight in Pounds\n",
    "\n",
    "playerWeights= [ 110 , 146 , 178 , 220 , 190 ]\n",
    "\n",
    "# you are asked to produce a dictionary where\n",
    "\n",
    "# key : weight in Pounds\n",
    "# value : weight in Kilograms"
   ]
  },
  {
   "cell_type": "code",
   "execution_count": 30,
   "id": "8fd70f8a",
   "metadata": {},
   "outputs": [
    {
     "name": "stdout",
     "output_type": "stream",
     "text": [
      "{110: 49.5, 146: 49.5, 178: 49.5, 220: 49.5, 190: 49.5}\n"
     ]
    }
   ],
   "source": [
    "pw = {}\n",
    "\n",
    "for w in playerWeights:\n",
    "    \n",
    "    pw[w] = round(x*0.45, 2)\n",
    "    \n",
    "print(pw)"
   ]
  },
  {
   "cell_type": "code",
   "execution_count": 33,
   "id": "c9cb1ed5",
   "metadata": {},
   "outputs": [],
   "source": [
    "marks =[ 64 , 29 , 81, 33 , 28 , 98 , 76 ]"
   ]
  },
  {
   "cell_type": "code",
   "execution_count": 34,
   "id": "5bf5d824",
   "metadata": {},
   "outputs": [],
   "source": [
    "# you are asked to produce a dictionary where\n",
    "\n",
    "# key : score\n",
    "\n",
    "# value : 'Pass' or 'Fail'\n",
    "\n",
    "# any score > 45 is 'Pass' otherwise 'Fail'"
   ]
  },
  {
   "cell_type": "code",
   "execution_count": 37,
   "id": "91d6c10a",
   "metadata": {},
   "outputs": [
    {
     "name": "stdout",
     "output_type": "stream",
     "text": [
      "{64: 'Pass', 29: 'Fail', 81: 'Pass', 33: 'Fail', 28: 'Fail', 98: 'Pass', 76: 'Pass'}\n"
     ]
    }
   ],
   "source": [
    "myDict = {}\n",
    "for score in marks :\n",
    "\n",
    "  if score > 45 :\n",
    "\n",
    "    myDict[ score ] = 'Pass'\n",
    "\n",
    "  else:\n",
    "\n",
    "    myDict[ score ] = 'Fail'\n",
    "           \n",
    "            \n",
    "print(myDict)"
   ]
  },
  {
   "cell_type": "code",
   "execution_count": 46,
   "id": "138e7eca",
   "metadata": {},
   "outputs": [],
   "source": [
    "days = ['sun', 'mon', 'tue', 'wed']"
   ]
  },
  {
   "cell_type": "code",
   "execution_count": 47,
   "id": "ff86961d",
   "metadata": {},
   "outputs": [],
   "source": [
    "fruits=['kiwi','papaya','cranberry','avacado']"
   ]
  },
  {
   "cell_type": "code",
   "execution_count": 49,
   "id": "16814eb8",
   "metadata": {},
   "outputs": [
    {
     "name": "stdout",
     "output_type": "stream",
     "text": [
      "{'sun': 'kiwi', 'mon': 'papaya', 'tue': 'cranberry', 'wed': 'avacado'}\n"
     ]
    }
   ],
   "source": [
    "\n",
    "pD = zip(days,fruits)\n",
    "\n",
    "print(dict(pD))"
   ]
  },
  {
   "cell_type": "code",
   "execution_count": null,
   "id": "5bcfd5cc",
   "metadata": {},
   "outputs": [],
   "source": []
  }
 ],
 "metadata": {
  "kernelspec": {
   "display_name": "Python 3 (ipykernel)",
   "language": "python",
   "name": "python3"
  },
  "language_info": {
   "codemirror_mode": {
    "name": "ipython",
    "version": 3
   },
   "file_extension": ".py",
   "mimetype": "text/x-python",
   "name": "python",
   "nbconvert_exporter": "python",
   "pygments_lexer": "ipython3",
   "version": "3.11.5"
  }
 },
 "nbformat": 4,
 "nbformat_minor": 5
}
